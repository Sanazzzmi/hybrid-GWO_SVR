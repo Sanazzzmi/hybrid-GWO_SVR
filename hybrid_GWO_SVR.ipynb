{
  "nbformat": 4,
  "nbformat_minor": 0,
  "metadata": {
    "colab": {
      "name": "hybrid GWO_SVR.ipynb",
      "provenance": [],
      "authorship_tag": "ABX9TyMpYJNHyRDpY6T2tVSoKpEH",
      "include_colab_link": true
    },
    "kernelspec": {
      "name": "python3",
      "display_name": "Python 3"
    },
    "language_info": {
      "name": "python"
    }
  },
  "cells": [
    {
      "cell_type": "markdown",
      "metadata": {
        "id": "view-in-github",
        "colab_type": "text"
      },
      "source": [
        "<a href=\"https://colab.research.google.com/github/Sanazzzmi/hybrid-GWO_SVR/blob/main/hybrid_GWO_SVR.ipynb\" target=\"_parent\"><img src=\"https://colab.research.google.com/assets/colab-badge.svg\" alt=\"Open In Colab\"/></a>"
      ]
    },
    {
      "cell_type": "markdown",
      "source": [
        "[Article idea](https://link.springer.com/content/pdf/10.1007/s11356-020-08792-3.pdf)"
      ],
      "metadata": {
        "id": "Sc7MLfr9AYA6"
      }
    },
    {
      "cell_type": "markdown",
      "source": [
        "[Data](https://www.longpaddock.qld.gov.au/silo/point-data/)"
      ],
      "metadata": {
        "id": "PYz93UMKDzDh"
      }
    },
    {
      "cell_type": "markdown",
      "source": [
        "### GWO_SVR"
      ],
      "metadata": {
        "id": "YwOeYc7PD7kQ"
      }
    },
    {
      "cell_type": "code",
      "source": [
        "from google.colab import drive\n",
        "drive.mount('/content/drive')"
      ],
      "metadata": {
        "id": "TA25S7rzAW9z"
      },
      "execution_count": null,
      "outputs": []
    },
    {
      "cell_type": "code",
      "source": [
        "# python implementation of Grey wolf optimization (GWO)\n",
        "# minimizing rastrigin and sphere function\n",
        " \n",
        "import random\n",
        "import math    # cos() for Rastrigin\n",
        "import copy    # array-copying convenience\n",
        "import sys     # max float\n",
        "import pandas as pd\n",
        "from sklearn.model_selection import train_test_split\n",
        "from sklearn import svm\n",
        "from sklearn.svm import SVR\n",
        "import sklearn.model_selection\n",
        "import numpy.random as rd\n",
        "from sklearn.model_selection import KFold\n",
        "from sklearn.metrics import mean_squared_error, r2_score\n",
        "from sklearn.model_selection import cross_val_score\n",
        "import numpy.random as rd\n",
        "\n",
        "\n",
        "file_name='/content/drive/MyDrive/file_name2.csv'\n",
        "df=pd.read_csv(file_name)\n",
        "df = df.sort_index()\n",
        "y=df['et_short_crop']\n",
        "dff = df.drop('et_short_crop', 1)\n",
        "X=dff\n",
        "X_train,X_test,y_train,y_test= train_test_split(X, y, test_size = 0.2, random_state = 0)"
      ],
      "metadata": {
        "id": "q3ru9gJzsaFV"
      },
      "execution_count": null,
      "outputs": []
    },
    {
      "cell_type": "code",
      "source": [
        "#-------fitness functions---------\n",
        "def fitness_function(position):\n",
        "    file_name='/content/drive/MyDrive/file_name2.csv'\n",
        "    df=pd.read_csv(file_name)\n",
        "    df = df.sort_index()\n",
        "    y=df['et_short_crop']\n",
        "    dff = df.drop('et_short_crop', 1)\n",
        "    X=dff\n",
        "    X_train,X_test,y_train,y_test= train_test_split(X, y, test_size = 0.2, random_state = 0)\n",
        "\n",
        "    p0 = position[0]\n",
        "    p1 = position[1]\n",
        "    p2 = position[2]\n",
        "    \n",
        "    rbf_regressor = svm.SVR(kernel = 'rbf', C = p0 ,epsilon =p1, gamma = p2 ).fit(X_train, y_train)  #svm        \n",
        "    cv_accuracies = cross_val_score(rbf_regressor,X_test,y_test,cv =3,scoring = 'neg_mean_squared_error') # Taking negated value of MSE\n",
        "    #To minimize the error rate\n",
        "    accuracies = cv_accuracies.mean()            \n",
        "    fitness_value = (1 - accuracies)*100\n",
        "\n",
        "    return fitness_value"
      ],
      "metadata": {
        "id": "Xi5LXSZWra4G"
      },
      "execution_count": null,
      "outputs": []
    },
    {
      "cell_type": "code",
      "source": [
        "# wolf class\n",
        "class wolf:\n",
        "    def __init__(self, fitness, dim, minx, maxx, seed):\n",
        "        self.rnd = random.Random(seed)\n",
        "        self.position = [0.0 for i in range(dim)]\n",
        "\n",
        "        for i in range(dim):\n",
        "\n",
        "            self.position[i] = ((maxx - minx) * self.rnd.random() + minx)\n",
        "\n",
        "        self.fitness = fitness(self.position) # curr fitness\n",
        "    \n"
      ],
      "metadata": {
        "id": "b8-UxmSFrbjt"
      },
      "execution_count": null,
      "outputs": []
    },
    {
      "cell_type": "code",
      "source": [
        "# grey wolf optimization (GWO)\n",
        "def gwo(fitness, max_iter, n, dim, minx, maxx):\n",
        "    rnd = random.Random(0)\n",
        " \n",
        "    # create n random wolves\n",
        "    population = [ wolf(fitness, dim, minx, maxx, i) for i in range(n)]\n",
        " \n",
        "    # On the basis of fitness values of wolves\n",
        "    # sort the population in asc order\n",
        "    population = sorted(population, key = lambda temp: temp.fitness)\n",
        " \n",
        "    # best 3 solutions will be called as\n",
        "    # alpha, beta and gaama\n",
        "    alpha_wolf, beta_wolf, gamma_wolf = copy.copy(population[: 3])\n",
        " \n",
        " \n",
        "    # main loop of gwo\n",
        "    Iter = 0\n",
        "    while Iter < max_iter:\n",
        " \n",
        "        # after every 10 iterations\n",
        "        # print iteration number and best fitness value so far\n",
        "        if Iter % 10 == 0 and Iter > 1:\n",
        "            print(\"Iter = \" + str(Iter) + \" best fitness = %.3f\" % alpha_wolf.fitness)\n",
        " \n",
        "        # linearly decreased from 2 to 0\n",
        "        a = 2*(1 - Iter/max_iter)\n",
        " \n",
        "\n",
        "\n",
        "        \n",
        "        # updating each population member with the help of best three members\n",
        "        for i in range(n):\n",
        "            A1, A2, A3 = a * (2 * rnd.random() - 1), a * (\n",
        "              2 * rnd.random() - 1), a * (2 * rnd.random() - 1)\n",
        "            C1, C2, C3 = 2 * rnd.random(), 2*rnd.random(), 2*rnd.random()\n",
        " \n",
        "            X1 = [0.0 for i in range(dim)]\n",
        "            X2 = [0.0 for i in range(dim)]\n",
        "            X3 = [0.0 for i in range(dim)]\n",
        "            Xnew = [0.0 for i in range(dim)]\n",
        "            for j in range(dim):\n",
        "                X1[j] = alpha_wolf.position[j] - A1 * abs(\n",
        "                  C1 - alpha_wolf.position[j] - population[i].position[j])\n",
        "                X2[j] = beta_wolf.position[j] - A2 * abs(\n",
        "                  C2 -  beta_wolf.position[j] - population[i].position[j])\n",
        "                X3[j] = gamma_wolf.position[j] - A3 * abs(\n",
        "                  C3 - gamma_wolf.position[j] - population[i].position[j])\n",
        "                Xnew[j]+= X1[j] + X2[j] + X3[j]\n",
        "             \n",
        "            for j in range(dim):\n",
        "                Xnew[j]/=3.0\n",
        "            \n",
        "            \n",
        "            Xnew = list(map(lambda x: x if x > 0  else 0.01, Xnew))\n",
        "\n",
        "            # fitness calculation of new solution\n",
        "            fnew = fitness(Xnew)\n",
        " \n",
        "            # greedy selection\n",
        "            if fnew < population[i].fitness:\n",
        "                population[i].position = Xnew\n",
        "                population[i].fitness = fnew\n",
        "                 \n",
        "        # On the basis of fitness values of wolves\n",
        "        # sort the population in asc order\n",
        "        population = sorted(population, key = lambda temp: temp.fitness)\n",
        " \n",
        "        # best 3 solutions will be called as\n",
        "        # alpha, beta and gaama\n",
        "        alpha_wolf, beta_wolf, gamma_wolf = copy.copy(population[: 3])\n",
        "         \n",
        "        Iter+= 1\n",
        "    # end-while\n",
        "        \n",
        "    # returning the best solution.\n",
        "    \n",
        "    \n",
        "    return alpha_wolf.position\n",
        "          "
      ],
      "metadata": {
        "id": "-tL5vU_RrhGu"
      },
      "execution_count": null,
      "outputs": []
    },
    {
      "cell_type": "code",
      "source": [
        "# Driver code for rastrigin function\n",
        "\n",
        "print(\"\\nBegin grey wolf optimization on rastrigin function\\n\")\n",
        "dim = 3\n",
        "fitness = fitness_function\n",
        " \n",
        " \n",
        "print(\"Goal is to minimize Rastrigin's function in \" + str(dim) + \" variables\")\n",
        "print(\"Function has known min = 0.0 at (\", end=\"\")\n",
        "for i in range(dim-1):\n",
        "  print(\"0, \", end=\"\")\n",
        "print(\"0)\")\n",
        " \n",
        "num_particles = 100\n",
        "max_iter =50\n",
        " \n",
        "print(\"Setting num_particles = \" + str(num_particles))\n",
        "print(\"Setting max_iter    = \" + str(max_iter))\n",
        "print(\"\\nStarting GWO algorithm\\n\")\n",
        " \n",
        " \n",
        "\n",
        "best_position = gwo(fitness, max_iter, num_particles, dim, 0, 0.1)\n",
        " \n",
        "print(\"\\nGWO completed\\n\")\n",
        "print(\"\\nBest solution found:\")\n",
        "print([\"%.6f\"%best_position[k] for k in range(dim)])\n",
        "err = fitness(best_position)\n",
        "print(\"fitness of best solution = %.6f\" % err)\n",
        " \n",
        "print(\"\\nEnd GWO for rastrigin\\n\")\n"
      ],
      "metadata": {
        "colab": {
          "base_uri": "https://localhost:8080/"
        },
        "id": "pUKYvVMxrlKN",
        "outputId": "922830a2-c8d7-490b-9ee9-3cea12e1db0c"
      },
      "execution_count": null,
      "outputs": [
        {
          "output_type": "stream",
          "name": "stdout",
          "text": [
            "\n",
            "Begin grey wolf optimization on rastrigin function\n",
            "\n",
            "Goal is to minimize Rastrigin's function in 3 variables\n",
            "Function has known min = 0.0 at (0, 0, 0)\n",
            "Setting num_particles = 100\n",
            "Setting max_iter    = 50\n",
            "\n",
            "Starting GWO algorithm\n",
            "\n",
            "Iter = 10 best fitness = 128.248\n",
            "Iter = 20 best fitness = 123.411\n",
            "Iter = 30 best fitness = 121.376\n",
            "Iter = 40 best fitness = 120.754\n",
            "\n",
            "GWO completed\n",
            "\n",
            "\n",
            "Best solution found:\n",
            "['9.480048', '0.483955', '0.003429']\n",
            "fitness of best solution = 120.164064\n",
            "\n",
            "End GWO for rastrigin\n",
            "\n"
          ]
        }
      ]
    },
    {
      "cell_type": "code",
      "source": [
        "#Apply Optimal Parameters to SVR\n",
        "\n",
        "svr_regressor= SVR(kernel='rbf', C = best_position[0],epsilon = best_position[1],gamma=best_position[2] )\n",
        "svr_regressor.fit(X_train,y_train)\n",
        "\n",
        "y_pred = svr_regressor.predict(X_test)\n",
        "\n",
        "import numpy as np\n",
        "\n",
        "accuracies = cross_val_score(svr_regressor, X = X_train, y = y_train, cv = 10)\n",
        "accuracy_mean= accuracies.mean()\n",
        "accuracies.std()*100\n",
        "mse = mean_squared_error(y_test, y_pred)\n",
        "rmse = np.sqrt(mse)\n",
        "print(\"RMSE =\", rmse)"
      ],
      "metadata": {
        "colab": {
          "base_uri": "https://localhost:8080/"
        },
        "id": "XbmSFwK9ruN-",
        "outputId": "7da2d247-8c9c-4465-8ae4-51e9fa5d2eba"
      },
      "execution_count": null,
      "outputs": [
        {
          "output_type": "stream",
          "name": "stdout",
          "text": [
            "RMSE = 0.40500065995802903\n"
          ]
        }
      ]
    }
  ]
}